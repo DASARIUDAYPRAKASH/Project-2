{
 "cells": [
  {
   "cell_type": "code",
   "execution_count": 0,
   "metadata": {
    "application/vnd.databricks.v1+cell": {
     "cellMetadata": {
      "byteLimit": 2048000,
      "rowLimit": 10000
     },
     "inputWidgets": {},
     "nuid": "eba6216f-fe17-4d98-aef2-653490ba6af0",
     "showTitle": false,
     "tableResultSettingsMap": {},
     "title": ""
    }
   },
   "outputs": [],
   "source": [
    "%run \"../Includes/Configuration\""
   ]
  },
  {
   "cell_type": "code",
   "execution_count": 0,
   "metadata": {
    "application/vnd.databricks.v1+cell": {
     "cellMetadata": {
      "byteLimit": 2048000,
      "rowLimit": 10000
     },
     "inputWidgets": {},
     "nuid": "a2f64131-5bc6-432f-9bf2-7915d1dfb563",
     "showTitle": false,
     "tableResultSettingsMap": {},
     "title": ""
    }
   },
   "outputs": [],
   "source": [
    "%run \"../Includes/Common_Functions\""
   ]
  },
  {
   "cell_type": "code",
   "execution_count": 0,
   "metadata": {
    "application/vnd.databricks.v1+cell": {
     "cellMetadata": {
      "byteLimit": 2048000,
      "rowLimit": 10000
     },
     "collapsed": true,
     "inputWidgets": {},
     "nuid": "98dae284-d88a-4968-a0f7-c0a3ec770590",
     "showTitle": false,
     "tableResultSettingsMap": {},
     "title": ""
    }
   },
   "outputs": [],
   "source": [
    "%run \"../Includes/sas alternative\""
   ]
  },
  {
   "cell_type": "code",
   "execution_count": 0,
   "metadata": {
    "application/vnd.databricks.v1+cell": {
     "cellMetadata": {
      "byteLimit": 2048000,
      "implicitDf": true,
      "rowLimit": 10000
     },
     "inputWidgets": {},
     "nuid": "a8a15316-3e77-452b-ba9a-bba6c75fb66c",
     "showTitle": false,
     "tableResultSettingsMap": {},
     "title": ""
    }
   },
   "outputs": [],
   "source": [
    "%sql\n",
    "desc database F_PROCESS;"
   ]
  },
  {
   "cell_type": "code",
   "execution_count": 0,
   "metadata": {
    "application/vnd.databricks.v1+cell": {
     "cellMetadata": {
      "byteLimit": 2048000,
      "implicitDf": true,
      "rowLimit": 10000
     },
     "inputWidgets": {},
     "nuid": "ab118135-18b0-4b8e-ab6c-c8ddf7634c8a",
     "showTitle": false,
     "tableResultSettingsMap": {},
     "title": ""
    }
   },
   "outputs": [],
   "source": [
    "%sql\n",
    "CREATE DATABASE IF NOT EXISTS f_raw;"
   ]
  },
  {
   "cell_type": "markdown",
   "metadata": {
    "application/vnd.databricks.v1+cell": {
     "cellMetadata": {
      "byteLimit": 2048000,
      "rowLimit": 10000
     },
     "inputWidgets": {},
     "nuid": "1d8726a9-4c41-4e48-bcad-ccf494c92e9d",
     "showTitle": false,
     "tableResultSettingsMap": {},
     "title": ""
    }
   },
   "source": [
    "## circuits"
   ]
  },
  {
   "cell_type": "code",
   "execution_count": 0,
   "metadata": {
    "application/vnd.databricks.v1+cell": {
     "cellMetadata": {
      "byteLimit": 2048000,
      "rowLimit": 10000
     },
     "inputWidgets": {},
     "nuid": "9c1ac71e-1f2b-4667-a35b-5db0b5ffae7b",
     "showTitle": false,
     "tableResultSettingsMap": {},
     "title": ""
    }
   },
   "outputs": [],
   "source": [
    "drop table if exists f_raw.circuits;\n",
    "create table if not exists f_raw.circuits(circuitId INT,\n",
    "circuitRef STRING,\n",
    "name STRING,\n",
    "location STRING,\n",
    "country STRING,\n",
    "lat DOUBLE,\n",
    "lng DOUBLE,\n",
    "alt INT,\n",
    "url STRING)\n",
    "using csv\n",
    "options(path 'abfss://udayadbcontainerv1@udayadbsav1.dfs.core.windows.net/Project-2/Raw-V1/circuits.csv', header True);"
   ]
  },
  {
   "cell_type": "code",
   "execution_count": 0,
   "metadata": {
    "application/vnd.databricks.v1+cell": {
     "cellMetadata": {
      "byteLimit": 2048000,
      "rowLimit": 10000
     },
     "inputWidgets": {},
     "nuid": "c73863e8-6e85-4569-bff0-b412b0f1b3a3",
     "showTitle": false,
     "tableResultSettingsMap": {},
     "title": ""
    }
   },
   "outputs": [],
   "source": [
    "select * from f_raw.circuits;"
   ]
  },
  {
   "cell_type": "markdown",
   "metadata": {
    "application/vnd.databricks.v1+cell": {
     "cellMetadata": {
      "byteLimit": 2048000,
      "rowLimit": 10000
     },
     "inputWidgets": {},
     "nuid": "40d39810-d93f-4def-bf41-877ada87f82f",
     "showTitle": false,
     "tableResultSettingsMap": {},
     "title": ""
    }
   },
   "source": [
    "# Constructers"
   ]
  },
  {
   "cell_type": "code",
   "execution_count": 0,
   "metadata": {
    "application/vnd.databricks.v1+cell": {
     "cellMetadata": {
      "byteLimit": 2048000,
      "rowLimit": 10000
     },
     "inputWidgets": {},
     "nuid": "a5640de8-c55f-44d1-86ea-b143e6f16322",
     "showTitle": false,
     "tableResultSettingsMap": {},
     "title": ""
    }
   },
   "outputs": [],
   "source": [
    "drop table if exists f_raw.constructers;\n",
    "create table f_raw.constructers(\n",
    "  constructorId INT,\n",
    "  constructorRef string,\n",
    "  name string,\n",
    "  nationality string,\n",
    "  url string\n",
    ")\n",
    "using json\n",
    "options(path \"abfss://udayadbcontainerv1@udayadbsav1.dfs.core.windows.net/Project-2/Raw-V1/constructors.json\");"
   ]
  },
  {
   "cell_type": "code",
   "execution_count": 0,
   "metadata": {
    "application/vnd.databricks.v1+cell": {
     "cellMetadata": {
      "byteLimit": 2048000,
      "rowLimit": 10000
     },
     "inputWidgets": {},
     "nuid": "6ccb94cd-2c7f-4572-9179-d653aa026843",
     "showTitle": false,
     "tableResultSettingsMap": {},
     "title": ""
    }
   },
   "outputs": [],
   "source": [
    "select * from f_raw.constructers;"
   ]
  },
  {
   "cell_type": "markdown",
   "metadata": {
    "application/vnd.databricks.v1+cell": {
     "cellMetadata": {
      "byteLimit": 2048000,
      "rowLimit": 10000
     },
     "inputWidgets": {},
     "nuid": "e273b18b-4b21-4d78-9019-b5a8489f99fa",
     "showTitle": false,
     "tableResultSettingsMap": {},
     "title": ""
    }
   },
   "source": [
    "### Drivers"
   ]
  },
  {
   "cell_type": "code",
   "execution_count": 0,
   "metadata": {
    "application/vnd.databricks.v1+cell": {
     "cellMetadata": {
      "byteLimit": 2048000,
      "rowLimit": 10000
     },
     "inputWidgets": {},
     "nuid": "e6f8b407-e3fd-412a-8dcb-26ee6fd9903c",
     "showTitle": false,
     "tableResultSettingsMap": {},
     "title": ""
    }
   },
   "outputs": [],
   "source": [
    "drop table if exists f_raw.drivers;\n",
    "\n",
    "create table f_raw.drivers(\n",
    "  driverId INT,\n",
    "  driverRef string,\n",
    "  number INT,\n",
    "  code string,\n",
    "  name string,\n",
    "  dob date,\n",
    "  nationality string,\n",
    "  url string)\n",
    "using json\n",
    "options(path \"abfss://udayadbcontainerv1@udayadbsav1.dfs.core.windows.net/Project-2/Raw-V1/drivers.json\");"
   ]
  },
  {
   "cell_type": "code",
   "execution_count": 0,
   "metadata": {
    "application/vnd.databricks.v1+cell": {
     "cellMetadata": {
      "byteLimit": 2048000,
      "rowLimit": 10000
     },
     "inputWidgets": {},
     "nuid": "3de28995-c7c5-4964-9daa-75d3bf598cbd",
     "showTitle": false,
     "tableResultSettingsMap": {},
     "title": ""
    }
   },
   "outputs": [],
   "source": [
    "select * from f_raw.drivers;"
   ]
  },
  {
   "cell_type": "markdown",
   "metadata": {
    "application/vnd.databricks.v1+cell": {
     "cellMetadata": {
      "byteLimit": 2048000,
      "rowLimit": 10000
     },
     "inputWidgets": {},
     "nuid": "c1bd6607-7271-4671-9e88-330dd6e5ebd0",
     "showTitle": false,
     "tableResultSettingsMap": {},
     "title": ""
    }
   },
   "source": [
    "### pitstops"
   ]
  },
  {
   "cell_type": "code",
   "execution_count": 0,
   "metadata": {
    "application/vnd.databricks.v1+cell": {
     "cellMetadata": {
      "byteLimit": 2048000,
      "rowLimit": 10000
     },
     "inputWidgets": {},
     "nuid": "72c30a24-8550-48d3-b303-37445ad6f19c",
     "showTitle": false,
     "tableResultSettingsMap": {},
     "title": ""
    }
   },
   "outputs": [],
   "source": [
    "drop table if exists f_raw.pit_stops;\n",
    "\n",
    "create table f_raw.pit_stops(\n",
    "  raceId INT,\n",
    "  driverId INT,\n",
    "  stop int,\n",
    "  lap int,\n",
    "  time string,\n",
    "  duration double,\n",
    "  milliseconds bigint\n",
    ")\n",
    "\n",
    "using json\n",
    "options(path \"abfss://udayadbcontainerv1@udayadbsav1.dfs.core.windows.net/Project-2/Raw-V1/pit_stops.json\", multiLine True)"
   ]
  },
  {
   "cell_type": "code",
   "execution_count": 0,
   "metadata": {
    "application/vnd.databricks.v1+cell": {
     "cellMetadata": {
      "byteLimit": 2048000,
      "rowLimit": 10000
     },
     "inputWidgets": {},
     "nuid": "2cba03a1-4959-4115-8bfb-db1c5bb562a2",
     "showTitle": false,
     "tableResultSettingsMap": {},
     "title": ""
    }
   },
   "outputs": [],
   "source": [
    "select * from f_raw.pit_stops;"
   ]
  },
  {
   "cell_type": "markdown",
   "metadata": {
    "application/vnd.databricks.v1+cell": {
     "cellMetadata": {
      "byteLimit": 2048000,
      "rowLimit": 10000
     },
     "inputWidgets": {},
     "nuid": "ce3143a1-e226-421a-a3f6-4771612f0705",
     "showTitle": false,
     "tableResultSettingsMap": {},
     "title": ""
    }
   },
   "source": [
    "## Races"
   ]
  },
  {
   "cell_type": "code",
   "execution_count": 0,
   "metadata": {
    "application/vnd.databricks.v1+cell": {
     "cellMetadata": {
      "byteLimit": 2048000,
      "rowLimit": 10000
     },
     "inputWidgets": {},
     "nuid": "f9c2fc5c-49fd-473c-b7aa-dfac4a0a7ab7",
     "showTitle": false,
     "tableResultSettingsMap": {},
     "title": ""
    }
   },
   "outputs": [],
   "source": [
    "drop table if exists f_raw.races;\n",
    "\n",
    "create table f_raw.races(\n",
    "  raceId int,\n",
    "  year int,\n",
    "  round int,\n",
    "  circuitId int,\n",
    "  name string,\n",
    "  date date,\n",
    "  time string,\n",
    "  url string\n",
    "\n",
    ")\n",
    "using csv\n",
    "options(path \"abfss://udayadbcontainerv1@udayadbsav1.dfs.core.windows.net/Project-2/Raw-V1/races.csv\", header True);"
   ]
  },
  {
   "cell_type": "code",
   "execution_count": 0,
   "metadata": {
    "application/vnd.databricks.v1+cell": {
     "cellMetadata": {
      "byteLimit": 2048000,
      "rowLimit": 10000
     },
     "inputWidgets": {},
     "nuid": "7feca006-5324-484b-800d-85c8ab3bc946",
     "showTitle": false,
     "tableResultSettingsMap": {},
     "title": ""
    }
   },
   "outputs": [],
   "source": [
    "select * from f_raw.races;"
   ]
  },
  {
   "cell_type": "markdown",
   "metadata": {
    "application/vnd.databricks.v1+cell": {
     "cellMetadata": {
      "byteLimit": 2048000,
      "rowLimit": 10000
     },
     "inputWidgets": {},
     "nuid": "ab9f2e0f-7877-4789-b64f-83a0f893278b",
     "showTitle": false,
     "tableResultSettingsMap": {},
     "title": ""
    }
   },
   "source": [
    "## Results"
   ]
  },
  {
   "cell_type": "code",
   "execution_count": 0,
   "metadata": {
    "application/vnd.databricks.v1+cell": {
     "cellMetadata": {
      "byteLimit": 2048000,
      "rowLimit": 10000
     },
     "inputWidgets": {},
     "nuid": "15c27ef7-0b87-4058-b883-132a81a017ae",
     "showTitle": false,
     "tableResultSettingsMap": {},
     "title": ""
    }
   },
   "outputs": [],
   "source": [
    "drop table if exists f_raw.results;\n",
    "\n",
    "create table f_raw.results(\n",
    "  resultId int,\n",
    "  raceId int,\n",
    "  driverId int,\n",
    "  constructorId int,\n",
    "  number int,\n",
    "  grid int,\n",
    "  position int,\n",
    "  positionText int,\n",
    "  positionOrder int,\n",
    "  points int,\n",
    "  laps int,\n",
    "  time string,\n",
    "  milliseconds bigint,\n",
    "  fastestLap int,\n",
    "  rank int,\n",
    "  fastestLapTime string,\n",
    "  fastestLapSpeed Double,\n",
    "  statusId int\n",
    "\n",
    ")\n",
    "using json\n",
    "options(path = \"abfss://udayadbcontainerv1@udayadbsav1.dfs.core.windows.net/Project-2/Raw-V1/results.json\");"
   ]
  },
  {
   "cell_type": "code",
   "execution_count": 0,
   "metadata": {
    "application/vnd.databricks.v1+cell": {
     "cellMetadata": {
      "byteLimit": 2048000,
      "rowLimit": 10000
     },
     "inputWidgets": {},
     "nuid": "f2a4ddb1-b16b-4557-af01-749625f90553",
     "showTitle": false,
     "tableResultSettingsMap": {},
     "title": ""
    }
   },
   "outputs": [],
   "source": [
    "select * from f_raw.results;"
   ]
  },
  {
   "cell_type": "markdown",
   "metadata": {
    "application/vnd.databricks.v1+cell": {
     "cellMetadata": {
      "byteLimit": 2048000,
      "rowLimit": 10000
     },
     "inputWidgets": {},
     "nuid": "3c3d5250-ccba-4635-a01b-f1850d09501d",
     "showTitle": false,
     "tableResultSettingsMap": {},
     "title": ""
    }
   },
   "source": [
    "## LapTimes"
   ]
  },
  {
   "cell_type": "code",
   "execution_count": 0,
   "metadata": {
    "application/vnd.databricks.v1+cell": {
     "cellMetadata": {
      "byteLimit": 2048000,
      "rowLimit": 10000
     },
     "inputWidgets": {},
     "nuid": "d487b195-29b9-4850-bcfd-19690d309679",
     "showTitle": false,
     "tableResultSettingsMap": {},
     "title": ""
    }
   },
   "outputs": [],
   "source": [
    "DROP TABLE IF EXISTS f_raw.lap_times;\n",
    "CREATE TABLE f_raw.lap_times(\n",
    "raceId INT,\n",
    "driverId INT,\n",
    "lap INT,\n",
    "position INT,\n",
    "time STRING,\n",
    "milliseconds INT\n",
    ")\n",
    "USING csv\n",
    "OPTIONS(path \"abfss://udayadbcontainerv1@udayadbsav1.dfs.core.windows.net/Project-2/Raw-V1/lap_times\");\n",
    "\n",
    "\n",
    "SELECT * FROM f_raw.lap_times"
   ]
  },
  {
   "cell_type": "markdown",
   "metadata": {
    "application/vnd.databricks.v1+cell": {
     "cellMetadata": {
      "byteLimit": 2048000,
      "rowLimit": 10000
     },
     "inputWidgets": {},
     "nuid": "b838bbc8-c0a6-4cbf-863c-f34628971ceb",
     "showTitle": false,
     "tableResultSettingsMap": {},
     "title": ""
    }
   },
   "source": [
    "## Qualifying"
   ]
  },
  {
   "cell_type": "code",
   "execution_count": 0,
   "metadata": {
    "application/vnd.databricks.v1+cell": {
     "cellMetadata": {
      "byteLimit": 2048000,
      "rowLimit": 10000
     },
     "inputWidgets": {},
     "nuid": "5e076364-c7b8-4511-b795-b709f1d9a508",
     "showTitle": false,
     "tableResultSettingsMap": {},
     "title": ""
    }
   },
   "outputs": [],
   "source": [
    "DROP TABLE IF EXISTS f_raw.qualifying;\n",
    "CREATE TABLE f_raw.qualifying(\n",
    "constructorId INT,\n",
    "driverId INT,\n",
    "number INT,\n",
    "position INT,\n",
    "q1 STRING,\n",
    "q2 STRING,\n",
    "q3 STRING,\n",
    "qualifyId INT,\n",
    "raceId INT)\n",
    "USING json\n",
    "OPTIONS (path \"abfss://udayadbcontainerv1@udayadbsav1.dfs.core.windows.net/Project-2/Raw-V1/qualifying\", multiLine true);\n",
    "\n",
    "\n",
    "SELECT * FROM f_raw.qualifying"
   ]
  }
 ],
 "metadata": {
  "application/vnd.databricks.v1+notebook": {
   "computePreferences": null,
   "dashboards": [],
   "environmentMetadata": {
    "base_environment": "",
    "environment_version": "2"
   },
   "inputWidgetPreferences": null,
   "language": "sql",
   "notebookMetadata": {
    "mostRecentlyExecutedCommandWithImplicitDF": {
     "commandId": -1,
     "dataframes": [
      "_sqldf"
     ]
    },
    "pythonIndentUnit": 4
   },
   "notebookName": "00_CREATE_RAW_TABLES",
   "widgets": {}
  },
  "language_info": {
   "name": "sql"
  }
 },
 "nbformat": 4,
 "nbformat_minor": 0
}
