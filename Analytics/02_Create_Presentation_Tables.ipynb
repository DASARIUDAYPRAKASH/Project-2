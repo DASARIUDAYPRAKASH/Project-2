{
 "cells": [
  {
   "cell_type": "code",
   "execution_count": 0,
   "metadata": {
    "application/vnd.databricks.v1+cell": {
     "cellMetadata": {
      "byteLimit": 2048000,
      "rowLimit": 10000
     },
     "inputWidgets": {},
     "nuid": "568e80dc-492a-497b-9994-1ccb3ffcb508",
     "showTitle": false,
     "tableResultSettingsMap": {},
     "title": ""
    }
   },
   "outputs": [],
   "source": [
    "%run \"../Includes/Configuration\""
   ]
  },
  {
   "cell_type": "code",
   "execution_count": 0,
   "metadata": {
    "application/vnd.databricks.v1+cell": {
     "cellMetadata": {
      "byteLimit": 2048000,
      "rowLimit": 10000
     },
     "inputWidgets": {},
     "nuid": "84ffc869-e3be-4228-8c0f-7a3a3e4efc58",
     "showTitle": false,
     "tableResultSettingsMap": {},
     "title": ""
    }
   },
   "outputs": [],
   "source": [
    "%run \"../Includes/Common_Functions\""
   ]
  },
  {
   "cell_type": "code",
   "execution_count": 0,
   "metadata": {
    "application/vnd.databricks.v1+cell": {
     "cellMetadata": {
      "byteLimit": 2048000,
      "rowLimit": 10000
     },
     "collapsed": true,
     "inputWidgets": {},
     "nuid": "b263fc3f-8c99-4aab-a154-317e42bdf6d0",
     "showTitle": false,
     "tableResultSettingsMap": {},
     "title": ""
    }
   },
   "outputs": [],
   "source": [
    "%run \"../Includes/sas alternative\""
   ]
  },
  {
   "cell_type": "code",
   "execution_count": 0,
   "metadata": {
    "application/vnd.databricks.v1+cell": {
     "cellMetadata": {
      "byteLimit": 2048000,
      "rowLimit": 10000
     },
     "inputWidgets": {},
     "nuid": "f357e453-224a-4e5e-911c-47c5a3a4fb43",
     "showTitle": false,
     "tableResultSettingsMap": {},
     "title": ""
    }
   },
   "outputs": [],
   "source": [
    "create database if not exists f_presentation\n",
    "location \"{Presentation_path}\";"
   ]
  },
  {
   "cell_type": "code",
   "execution_count": 0,
   "metadata": {
    "application/vnd.databricks.v1+cell": {
     "cellMetadata": {
      "byteLimit": 2048000,
      "rowLimit": 10000
     },
     "inputWidgets": {},
     "nuid": "ed3fd62b-6d21-4e9e-819a-775a86ad5a62",
     "showTitle": false,
     "tableResultSettingsMap": {},
     "title": ""
    }
   },
   "outputs": [],
   "source": [
    "drop table if exists f_presentation.Circuits_Race_Driver_Constructer;\n",
    "\n",
    "create table f_presentation.Circuits_Race_Driver_Constructer(\n",
    "  race_year int,\n",
    "  race_name string,\n",
    "  race_date timestamp, \n",
    "  circuits_location string,\n",
    "  driver_name string,\n",
    "  driver_number int, \n",
    "  driver_nationality string,\n",
    "  team string, \n",
    "  grid int, \n",
    "  fastest_Lap int, \n",
    "  race_time timestamp, \n",
    "  points int, \n",
    "  position int\n",
    ")\n",
    "using parquet\n",
    "options(path \"abfss://udayadbcontainerv1@udayadbsav1.dfs.core.windows.net/Project-2/Presentation-V1/Race_Results_R\");\n",
    "\n",
    "select * from f_presentation.Circuits_Race_Driver_Constructer;\n"
   ]
  }
 ],
 "metadata": {
  "application/vnd.databricks.v1+notebook": {
   "computePreferences": null,
   "dashboards": [],
   "environmentMetadata": {
    "base_environment": "",
    "environment_version": "2"
   },
   "inputWidgetPreferences": null,
   "language": "sql",
   "notebookMetadata": {
    "pythonIndentUnit": 4
   },
   "notebookName": "02_Create_Presentation_Tables",
   "widgets": {}
  },
  "language_info": {
   "name": "sql"
  }
 },
 "nbformat": 4,
 "nbformat_minor": 0
}
