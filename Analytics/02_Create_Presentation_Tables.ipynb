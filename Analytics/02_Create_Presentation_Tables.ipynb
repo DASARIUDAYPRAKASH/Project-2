{
 "cells": [
  {
   "cell_type": "code",
   "execution_count": 0,
   "metadata": {
    "application/vnd.databricks.v1+cell": {
     "cellMetadata": {
      "byteLimit": 2048000,
      "rowLimit": 10000
     },
     "inputWidgets": {},
     "nuid": "568e80dc-492a-497b-9994-1ccb3ffcb508",
     "showTitle": false,
     "tableResultSettingsMap": {},
     "title": ""
    }
   },
   "outputs": [],
   "source": [
    "%run \"../Includes/Configuration\""
   ]
  },
  {
   "cell_type": "code",
   "execution_count": 0,
   "metadata": {
    "application/vnd.databricks.v1+cell": {
     "cellMetadata": {
      "byteLimit": 2048000,
      "rowLimit": 10000
     },
     "inputWidgets": {},
     "nuid": "84ffc869-e3be-4228-8c0f-7a3a3e4efc58",
     "showTitle": false,
     "tableResultSettingsMap": {},
     "title": ""
    }
   },
   "outputs": [],
   "source": [
    "%run \"../Includes/Common_Functions\""
   ]
  },
  {
   "cell_type": "code",
   "execution_count": 0,
   "metadata": {
    "application/vnd.databricks.v1+cell": {
     "cellMetadata": {
      "byteLimit": 2048000,
      "rowLimit": 10000
     },
     "collapsed": true,
     "inputWidgets": {},
     "nuid": "b263fc3f-8c99-4aab-a154-317e42bdf6d0",
     "showTitle": false,
     "tableResultSettingsMap": {},
     "title": ""
    }
   },
   "outputs": [],
   "source": [
    "%run \"../Includes/sas alternative\""
   ]
  },
  {
   "cell_type": "code",
   "execution_count": 0,
   "metadata": {
    "application/vnd.databricks.v1+cell": {
     "cellMetadata": {
      "byteLimit": 2048000,
      "rowLimit": 10000
     },
     "inputWidgets": {},
     "nuid": "f357e453-224a-4e5e-911c-47c5a3a4fb43",
     "showTitle": false,
     "tableResultSettingsMap": {},
     "title": ""
    }
   },
   "outputs": [],
   "source": [
    "create database if not exists f_presentation\n",
    "location \"{Presentation_path}\";"
   ]
  },
  {
   "cell_type": "code",
   "execution_count": 0,
   "metadata": {
    "application/vnd.databricks.v1+cell": {
     "cellMetadata": {
      "byteLimit": 2048000,
      "rowLimit": 10000
     },
     "inputWidgets": {},
     "nuid": "ed3fd62b-6d21-4e9e-819a-775a86ad5a62",
     "showTitle": false,
     "tableResultSettingsMap": {},
     "title": ""
    }
   },
   "outputs": [],
   "source": [
    "drop table if exists f_presentation.Circuits_Race_Driver_Constructer;\n",
    "\n",
    "create table f_presentation.Circuits_Race_Driver_Constructer(\n",
    "  race_year int,\n",
    "  race_name string,\n",
    "  race_date timestamp, \n",
    "  circuits_location string,\n",
    "  driver_name string,\n",
    "  driver_number int, \n",
    "  driver_nationality string,\n",
    "  team string, \n",
    "  grid int, \n",
    "  fastest_Lap int, \n",
    "  race_time timestamp, \n",
    "  points int, \n",
    "  position int\n",
    ")\n",
    "using parquet\n",
    "options(path \"abfss://udayadbcontainerv1@udayadbsav1.dfs.core.windows.net/Project-2/Presentation-V1/Race_Results_R\");\n",
    "\n",
    "select * from f_presentation.Circuits_Race_Driver_Constructer;\n"
   ]
  },
  {
   "cell_type": "code",
   "execution_count": 0,
   "metadata": {
    "application/vnd.databricks.v1+cell": {
     "cellMetadata": {
      "byteLimit": 2048000,
      "rowLimit": 10000
     },
     "inputWidgets": {},
     "nuid": "737271be-e9f0-44bf-b9da-5a3aef516d2a",
     "showTitle": false,
     "tableResultSettingsMap": {},
     "title": ""
    }
   },
   "outputs": [],
   "source": [
    "--All-time performance\n",
    "--Which drivers have competed in at least 50 races\n",
    "--and how do they rank by their average points per race? \n",
    "--Please also report each driver’s total races and total points.\n",
    "select distinct driver_name, \n",
    "                round(avg(points),2) as average_points, \n",
    "                count(distinct race_name) as total_races, \n",
    "                sum(points) as total_points,\n",
    "                rank() over(order By round(avg(points),2) desc) as rank\n",
    "from f_presentation.Circuits_Race_Driver_Constructer\n",
    "group by driver_name;\n",
    "--having count(distinct race_name)>= 50;"
   ]
  },
  {
   "cell_type": "code",
   "execution_count": 0,
   "metadata": {
    "application/vnd.databricks.v1+cell": {
     "cellMetadata": {
      "byteLimit": 2048000,
      "rowLimit": 10000
     },
     "inputWidgets": {},
     "nuid": "8411caec-cac8-4783-99b7-d8803018fed8",
     "showTitle": false,
     "tableResultSettingsMap": {},
     "title": ""
    }
   },
   "outputs": [],
   "source": [
    "select * from f_presentation.Circuits_Race_Driver_Constructer;"
   ]
  },
  {
   "cell_type": "code",
   "execution_count": 0,
   "metadata": {
    "application/vnd.databricks.v1+cell": {
     "cellMetadata": {
      "byteLimit": 2048000,
      "rowLimit": 10000
     },
     "inputWidgets": {},
     "nuid": "c7da61c3-9465-422e-80eb-4edaf013d1db",
     "showTitle": false,
     "tableResultSettingsMap": {},
     "title": ""
    }
   },
   "outputs": [],
   "source": [
    "--Performance in 2011–2020\n",
    "--“Between the 2011 and 2020 seasons, which drivers started in at least 50 races, \n",
    "--how do they rank by average points per race? \n",
    "--Include for each driver their total races and total points scored over that period.”\n",
    "select driver_name,\n",
    "       round(avg(points),2) as average_points,\n",
    "       rank() over (order by round(avg(points),2)desc) as rank,\n",
    "       count(distinct race_name) as total_races,\n",
    "       sum(distinct points) as total_points\n",
    "from f_presentation.Circuits_Race_Driver_Constructer\n",
    "where race_year between 2011 and 2020\n",
    "group by driver_name;\n",
    "--having count(distinct race_name)>=50"
   ]
  },
  {
   "cell_type": "code",
   "execution_count": 0,
   "metadata": {
    "application/vnd.databricks.v1+cell": {
     "cellMetadata": {
      "byteLimit": 2048000,
      "rowLimit": 10000
     },
     "inputWidgets": {},
     "nuid": "bac45413-6cf0-4d14-aac2-3eae6d910593",
     "showTitle": false,
     "tableResultSettingsMap": {},
     "title": ""
    }
   },
   "outputs": [],
   "source": [
    "--Performance in 2001–2010\n",
    "--“Between the 2001 and 2010 seasons, which drivers started in at least 50 races, \n",
    "--and how do they rank by average points per race? \n",
    "--Include for each driver their total races and total points scored over that period.”\n",
    "select driver_name,\n",
    "       round(avg(points),2) as average_points,\n",
    "       rank() over (order by round(avg(points),2)desc) as rank,\n",
    "       count(distinct race_name) as total_races,\n",
    "       sum(distinct points) as total_points\n",
    "from f_presentation.Circuits_Race_Driver_Constructer\n",
    "where race_year between 2001 and 2010\n",
    "group by driver_name;\n",
    "--having count(distinct race_name)>=50"
   ]
  },
  {
   "cell_type": "code",
   "execution_count": 0,
   "metadata": {
    "application/vnd.databricks.v1+cell": {
     "cellMetadata": {},
     "inputWidgets": {},
     "nuid": "030f0df4-42ee-4ef5-b900-f5efdf6c8ec2",
     "showTitle": false,
     "tableResultSettingsMap": {},
     "title": ""
    }
   },
   "outputs": [],
   "source": []
  }
 ],
 "metadata": {
  "application/vnd.databricks.v1+notebook": {
   "computePreferences": null,
   "dashboards": [],
   "environmentMetadata": {
    "base_environment": "",
    "environment_version": "2"
   },
   "inputWidgetPreferences": null,
   "language": "sql",
   "notebookMetadata": {
    "pythonIndentUnit": 4
   },
   "notebookName": "02_Create_Presentation_Tables",
   "widgets": {}
  },
  "language_info": {
   "name": "sql"
  }
 },
 "nbformat": 4,
 "nbformat_minor": 0
}
