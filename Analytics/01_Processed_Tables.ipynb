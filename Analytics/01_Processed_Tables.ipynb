{
 "cells": [
  {
   "cell_type": "code",
   "execution_count": 0,
   "metadata": {
    "application/vnd.databricks.v1+cell": {
     "cellMetadata": {
      "byteLimit": 2048000,
      "rowLimit": 10000
     },
     "inputWidgets": {},
     "nuid": "84af34e5-8a4a-43aa-9322-ffbcd74b9703",
     "showTitle": false,
     "tableResultSettingsMap": {},
     "title": ""
    }
   },
   "outputs": [],
   "source": [
    "%run \"../Includes/Configuration\""
   ]
  },
  {
   "cell_type": "code",
   "execution_count": 0,
   "metadata": {
    "application/vnd.databricks.v1+cell": {
     "cellMetadata": {
      "byteLimit": 2048000,
      "rowLimit": 10000
     },
     "inputWidgets": {},
     "nuid": "87750c80-bd67-4bcf-b40a-2ff248951f0b",
     "showTitle": false,
     "tableResultSettingsMap": {},
     "title": ""
    }
   },
   "outputs": [],
   "source": [
    "%run \"../Includes/Common_Functions\""
   ]
  },
  {
   "cell_type": "code",
   "execution_count": 0,
   "metadata": {
    "application/vnd.databricks.v1+cell": {
     "cellMetadata": {
      "byteLimit": 2048000,
      "rowLimit": 10000
     },
     "collapsed": true,
     "inputWidgets": {},
     "nuid": "2381c455-9590-4774-a2e8-1b4556c6fa61",
     "showTitle": false,
     "tableResultSettingsMap": {},
     "title": ""
    }
   },
   "outputs": [],
   "source": [
    "%run \"../Includes/sas alternative\""
   ]
  },
  {
   "cell_type": "markdown",
   "metadata": {
    "application/vnd.databricks.v1+cell": {
     "cellMetadata": {
      "byteLimit": 2048000,
      "rowLimit": 10000
     },
     "inputWidgets": {},
     "nuid": "191383b6-8505-4a90-aa42-eae6bb5fd549",
     "showTitle": false,
     "tableResultSettingsMap": {},
     "title": ""
    }
   },
   "source": [
    "## Circuits"
   ]
  },
  {
   "cell_type": "code",
   "execution_count": 0,
   "metadata": {
    "application/vnd.databricks.v1+cell": {
     "cellMetadata": {
      "byteLimit": 2048000,
      "rowLimit": 10000
     },
     "inputWidgets": {},
     "nuid": "31037894-3a42-49bc-bf88-c7c5dbb4b504",
     "showTitle": false,
     "tableResultSettingsMap": {},
     "title": ""
    }
   },
   "outputs": [],
   "source": [
    "create database if not exists f_process\n",
    "location \"{Processed_path}\";"
   ]
  },
  {
   "cell_type": "code",
   "execution_count": 0,
   "metadata": {
    "application/vnd.databricks.v1+cell": {
     "cellMetadata": {
      "byteLimit": 2048000,
      "rowLimit": 10000
     },
     "inputWidgets": {},
     "nuid": "046da659-df45-4933-8f9b-7095386b4354",
     "showTitle": false,
     "tableResultSettingsMap": {},
     "title": ""
    }
   },
   "outputs": [],
   "source": [
    "drop table if exists f_process.circuits;\n",
    "\n",
    "create table f_process.circuits(\n",
    "  circuit_Id int,\n",
    "  circuit_Ref string,\n",
    "  name string,\n",
    "  location string,\n",
    "  country string,\n",
    "  latitude double,\n",
    "  longitude double,\n",
    "  altitude double,\n",
    "  url string,\n",
    "  data_source string\n",
    ")\n",
    "using parquet\n",
    "options(\n",
    "  path = \"abfss://udayadbcontainerv1@udayadbsav1.dfs.core.windows.net/Project-2/Processed-V1/circuits\",\n",
    "  header = True\n",
    ");\n",
    "\n",
    "select * from f_process.circuits;"
   ]
  },
  {
   "cell_type": "markdown",
   "metadata": {
    "application/vnd.databricks.v1+cell": {
     "cellMetadata": {
      "byteLimit": 2048000,
      "rowLimit": 10000
     },
     "inputWidgets": {},
     "nuid": "9872cf6e-f892-4af2-a928-e2b489f6ab66",
     "showTitle": false,
     "tableResultSettingsMap": {},
     "title": ""
    }
   },
   "source": [
    "## Constructers"
   ]
  },
  {
   "cell_type": "code",
   "execution_count": 0,
   "metadata": {
    "application/vnd.databricks.v1+cell": {
     "cellMetadata": {
      "byteLimit": 2048000,
      "rowLimit": 10000
     },
     "inputWidgets": {},
     "nuid": "be1c0b9d-ad52-4d88-a42c-9d9d10073560",
     "showTitle": false,
     "tableResultSettingsMap": {},
     "title": ""
    }
   },
   "outputs": [],
   "source": [
    "drop table if exists f_process.constructor;\n",
    "\n",
    "create table f_process.constructor(\n",
    "  constructorId int,\n",
    "  constructorRef string,\n",
    "  name string,\n",
    "  nationality string,\n",
    "  Data_Source string\n",
    "\n",
    ")\n",
    "using parquet\n",
    "options(path \"abfss://udayadbcontainerv1@udayadbsav1.dfs.core.windows.net/Project-2/Processed-V1/New_Constructer\");\n",
    "\n",
    "select * from f_process.constructor;"
   ]
  },
  {
   "cell_type": "markdown",
   "metadata": {
    "application/vnd.databricks.v1+cell": {
     "cellMetadata": {
      "byteLimit": 2048000,
      "rowLimit": 10000
     },
     "inputWidgets": {},
     "nuid": "085001de-5f24-420c-b0fa-8341f1c14dac",
     "showTitle": false,
     "tableResultSettingsMap": {},
     "title": ""
    }
   },
   "source": [
    "## Driver"
   ]
  },
  {
   "cell_type": "code",
   "execution_count": 0,
   "metadata": {
    "application/vnd.databricks.v1+cell": {
     "cellMetadata": {
      "byteLimit": 2048000,
      "rowLimit": 10000
     },
     "inputWidgets": {},
     "nuid": "a9e850c4-c1f4-4d1a-84c7-276257088846",
     "showTitle": false,
     "tableResultSettingsMap": {},
     "title": ""
    }
   },
   "outputs": [],
   "source": [
    "drop table if exists f_process.driver;\n",
    "\n",
    "create table f_process.driver(\n",
    "  driver_Id int,\n",
    "  driver_Ref string,\n",
    "  number int,\n",
    "  code string,\n",
    "  name string,\n",
    "  dob date,\n",
    "  nationality string\n",
    "\n",
    ")\n",
    "\n",
    "using parquet\n",
    "options(path \"abfss://udayadbcontainerv1@udayadbsav1.dfs.core.windows.net/Project-2/Processed-V1/Drivers\");\n",
    "\n",
    "select * from f_process.driver;"
   ]
  },
  {
   "cell_type": "markdown",
   "metadata": {
    "application/vnd.databricks.v1+cell": {
     "cellMetadata": {
      "byteLimit": 2048000,
      "rowLimit": 10000
     },
     "inputWidgets": {},
     "nuid": "c4b9335b-e6f9-430b-8230-faeaaf4ae4b1",
     "showTitle": false,
     "tableResultSettingsMap": {},
     "title": ""
    }
   },
   "source": [
    "## Lap_Times"
   ]
  },
  {
   "cell_type": "code",
   "execution_count": 0,
   "metadata": {
    "application/vnd.databricks.v1+cell": {
     "cellMetadata": {
      "byteLimit": 2048000,
      "rowLimit": 10000
     },
     "inputWidgets": {},
     "nuid": "74a0ab7a-a33b-4ed0-94ea-bb5098911465",
     "showTitle": false,
     "tableResultSettingsMap": {},
     "title": ""
    }
   },
   "outputs": [],
   "source": [
    "drop table if exists f_process.laptimes;\n",
    "\n",
    "create table f_process.laptimes(\n",
    "  race_Id int,\n",
    "  driver_Id int,\n",
    "  lap int,\n",
    "  position int,\n",
    "  time string,\n",
    "  milliseconds bigint\n",
    ")\n",
    "using parquet\n",
    "options(path \"abfss://udayadbcontainerv1@udayadbsav1.dfs.core.windows.net/Project-2/Processed-V1/Lap_Times\");\n",
    "\n",
    "\n",
    "select * from f_process.laptimes;"
   ]
  },
  {
   "cell_type": "markdown",
   "metadata": {
    "application/vnd.databricks.v1+cell": {
     "cellMetadata": {
      "byteLimit": 2048000,
      "rowLimit": 10000
     },
     "inputWidgets": {},
     "nuid": "6c801828-e70e-4a6c-a430-21aed34c1413",
     "showTitle": false,
     "tableResultSettingsMap": {},
     "title": ""
    }
   },
   "source": [
    "## PitStops"
   ]
  },
  {
   "cell_type": "code",
   "execution_count": 0,
   "metadata": {
    "application/vnd.databricks.v1+cell": {
     "cellMetadata": {
      "byteLimit": 2048000,
      "rowLimit": 10000
     },
     "inputWidgets": {},
     "nuid": "a5f37fa5-9f28-4434-acae-cb4730177cf8",
     "showTitle": false,
     "tableResultSettingsMap": {},
     "title": ""
    }
   },
   "outputs": [],
   "source": [
    "drop table if exists f_process.PitStops;\n",
    "\n",
    "create table f_process.PitStops(\n",
    "  driver_Id bigint,\n",
    "  duration string,\n",
    "  lap bigint,\n",
    "  milliseconds bigint,\n",
    "  race_Id bigint,\n",
    "  stop bigint,\n",
    "  time string,\n",
    "  Date_Time timestamp\n",
    "\n",
    ")\n",
    "using parquet\n",
    "options(path \"abfss://udayadbcontainerv1@udayadbsav1.dfs.core.windows.net/Project-2/Processed-V1/PitStops\");\n",
    "\n",
    "select * from f_process.PitStops;"
   ]
  },
  {
   "cell_type": "markdown",
   "metadata": {
    "application/vnd.databricks.v1+cell": {
     "cellMetadata": {
      "byteLimit": 2048000,
      "rowLimit": 10000
     },
     "inputWidgets": {},
     "nuid": "71cf9f8c-709e-4af4-a006-e4de2962ea95",
     "showTitle": false,
     "tableResultSettingsMap": {},
     "title": ""
    }
   },
   "source": [
    "## Qualifying"
   ]
  },
  {
   "cell_type": "code",
   "execution_count": 0,
   "metadata": {
    "application/vnd.databricks.v1+cell": {
     "cellMetadata": {
      "byteLimit": 2048000,
      "rowLimit": 10000
     },
     "inputWidgets": {},
     "nuid": "8b9b40e5-3cc4-4454-8739-bd4b5a987c02",
     "showTitle": false,
     "tableResultSettingsMap": {},
     "title": ""
    }
   },
   "outputs": [],
   "source": [
    "drop table if exists f_process.Qualifying;\n",
    "\n",
    "create table f_process.Qualifying(\n",
    "  qualify_Id int,\n",
    "  race_Id int,\n",
    "  driver_Id int,\n",
    "  constructor_Id int,\n",
    "  number int,\n",
    "  position int,\n",
    "  q1 string,\n",
    "  q2 string,\n",
    "  q3 string\n",
    ")\n",
    "\n",
    "using parquet\n",
    "options(path \"abfss://udayadbcontainerv1@udayadbsav1.dfs.core.windows.net/Project-2/Processed-V1/Qualifying\");\n",
    "\n",
    "select * from f_process.Qualifying;"
   ]
  },
  {
   "cell_type": "markdown",
   "metadata": {
    "application/vnd.databricks.v1+cell": {
     "cellMetadata": {
      "byteLimit": 2048000,
      "rowLimit": 10000
     },
     "inputWidgets": {},
     "nuid": "967b3984-806e-4079-9da7-6504691dbce1",
     "showTitle": false,
     "tableResultSettingsMap": {},
     "title": ""
    }
   },
   "source": [
    "## Races"
   ]
  },
  {
   "cell_type": "code",
   "execution_count": 0,
   "metadata": {
    "application/vnd.databricks.v1+cell": {
     "cellMetadata": {
      "byteLimit": 2048000,
      "rowLimit": 10000
     },
     "inputWidgets": {},
     "nuid": "0c852965-24e9-469c-bee1-568bda5f4400",
     "showTitle": false,
     "tableResultSettingsMap": {},
     "title": ""
    }
   },
   "outputs": [],
   "source": [
    "drop table if exists f_process.races;\n",
    "\n",
    "create table f_process.races(\n",
    "  race_Id int,\n",
    "  race_year int,\n",
    "  round int,\n",
    "  circuit_id int,\n",
    "  name string,\n",
    "  race_timestamp timestamp\n",
    ")\n",
    "\n",
    "using parquet\n",
    "options(path \"abfss://udayadbcontainerv1@udayadbsav1.dfs.core.windows.net/Project-2/Processed-V1/races\");\n",
    "\n",
    "select * from f_process.races;"
   ]
  },
  {
   "cell_type": "markdown",
   "metadata": {
    "application/vnd.databricks.v1+cell": {
     "cellMetadata": {
      "byteLimit": 2048000,
      "rowLimit": 10000
     },
     "inputWidgets": {},
     "nuid": "dd39972c-8a34-437a-9b06-769e5ae67a6c",
     "showTitle": false,
     "tableResultSettingsMap": {},
     "title": ""
    }
   },
   "source": [
    "## Results"
   ]
  },
  {
   "cell_type": "code",
   "execution_count": 0,
   "metadata": {
    "application/vnd.databricks.v1+cell": {
     "cellMetadata": {
      "byteLimit": 2048000,
      "rowLimit": 10000
     },
     "inputWidgets": {},
     "nuid": "f92c47e4-5cc7-40ad-88c8-a5fff30e6a85",
     "showTitle": false,
     "tableResultSettingsMap": {},
     "title": ""
    }
   },
   "outputs": [],
   "source": [
    "drop table if exists f_process.results;\n",
    "\n",
    "create table f_process.results(\n",
    "  result_Id int,\n",
    "  race_Id int,\n",
    "  driver_Id int,\n",
    "  constructorId int,\n",
    "  number int,\n",
    "  grid int,\n",
    "  position int,\n",
    "  position_Text int,\n",
    "  position_Order int,\n",
    "  points int,\n",
    "  laps int,\n",
    "  time string,\n",
    "  milliseconds bigint,\n",
    "  fastest_Lap int,\n",
    "  rank int,\n",
    "  fastest_Lap_Time string,\n",
    "  fastest_Lap_Speed double\n",
    "\n",
    ")\n",
    "using parquet\n",
    "options(path \"abfss://udayadbcontainerv1@udayadbsav1.dfs.core.windows.net/Project-2/Processed-V1/races\");\n",
    "\n",
    "select * from f_process.races;"
   ]
  },
  {
   "cell_type": "code",
   "execution_count": 0,
   "metadata": {
    "application/vnd.databricks.v1+cell": {
     "cellMetadata": {
      "byteLimit": 2048000,
      "rowLimit": 10000
     },
     "inputWidgets": {},
     "nuid": "38467c0e-afef-4a26-9386-c8558bbda555",
     "showTitle": false,
     "tableResultSettingsMap": {},
     "title": ""
    }
   },
   "outputs": [],
   "source": [
    "\n"
   ]
  }
 ],
 "metadata": {
  "application/vnd.databricks.v1+notebook": {
   "computePreferences": null,
   "dashboards": [],
   "environmentMetadata": {
    "base_environment": "",
    "environment_version": "2"
   },
   "inputWidgetPreferences": null,
   "language": "sql",
   "notebookMetadata": {
    "pythonIndentUnit": 4
   },
   "notebookName": "01_Processed_Tables",
   "widgets": {}
  },
  "language_info": {
   "name": "sql"
  }
 },
 "nbformat": 4,
 "nbformat_minor": 0
}
