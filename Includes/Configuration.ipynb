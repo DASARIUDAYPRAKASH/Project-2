{
 "cells": [
  {
   "cell_type": "code",
   "execution_count": 0,
   "metadata": {
    "application/vnd.databricks.v1+cell": {
     "cellMetadata": {},
     "inputWidgets": {},
     "nuid": "d251f68d-6395-4f7e-9655-990533e3b58c",
     "showTitle": false,
     "tableResultSettingsMap": {},
     "title": ""
    }
   },
   "outputs": [],
   "source": [
    "# Raw Folder path\n",
    "# Processed Folder path\n",
    "# Presentation Folder path\n",
    "\n",
    "raw_path = \"abfss://udayadbcontainerv1@udayadbsav1.dfs.core.windows.net/Project-2/Raw-V1\"\n",
    "Processed_path = \"abfss://udayadbcontainerv1@udayadbsav1.dfs.core.windows.net/Project-2/Processed-V1\"\n",
    "Presentation_path = \"abfss://udayadbcontainerv1@udayadbsav1.dfs.core.windows.net/Project-2/Presentation-V1\""
   ]
  },
  {
   "cell_type": "code",
   "execution_count": 0,
   "metadata": {
    "application/vnd.databricks.v1+cell": {
     "cellMetadata": {},
     "inputWidgets": {},
     "nuid": "1580c075-06dd-4579-b781-7e767152325b",
     "showTitle": false,
     "tableResultSettingsMap": {},
     "title": ""
    }
   },
   "outputs": [],
   "source": []
  }
 ],
 "metadata": {
  "application/vnd.databricks.v1+notebook": {
   "computePreferences": null,
   "dashboards": [],
   "environmentMetadata": {
    "base_environment": "",
    "environment_version": "2"
   },
   "inputWidgetPreferences": null,
   "language": "python",
   "notebookMetadata": {
    "pythonIndentUnit": 4
   },
   "notebookName": "Configuration",
   "widgets": {}
  },
  "language_info": {
   "name": "python"
  }
 },
 "nbformat": 4,
 "nbformat_minor": 0
}
